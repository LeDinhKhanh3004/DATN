{
 "cells": [
  {
   "cell_type": "code",
   "execution_count": 1,
   "id": "76f4f851-6357-453b-8c53-b22183b7b676",
   "metadata": {},
   "outputs": [
    {
     "name": "stdout",
     "output_type": "stream",
     "text": [
      "Recording audio for file 1...\n",
      "Recording complete.\n"
     ]
    }
   ],
   "source": [
    "import pyaudio\n",
    "import os\n",
    "import wave\n",
    "import random\n",
    "\n",
    "# Constants\n",
    "FORMAT = pyaudio.paInt16\n",
    "CHANNELS = 1\n",
    "RATE = 16000\n",
    "CHUNK = 1024\n",
    "n_times = int(RATE*3000/CHUNK)\n",
    "# n_times = int(RATE / CHUNK * 60)  # Number of iterations to record 1 second\n",
    "\n",
    "\n",
    "# Create a folder named 'background_sound'\n",
    "output_folder = 'AIS_29_01_3'\n",
    "os.makedirs(output_folder, exist_ok=True)\n",
    "\n",
    "# Hàm của luồng 1\n",
    "def record_audio(file_number):\n",
    "    print(f\"Recording audio for file {file_number}...\")\n",
    "    frames = []\n",
    "\n",
    "   \n",
    "    \n",
    "    # Khởi tạo Audio\n",
    "    p = pyaudio.PyAudio()\n",
    "    stream = p.open(format=FORMAT,\n",
    "                    channels=CHANNELS,\n",
    "                    rate=RATE,\n",
    "                    input=True,\n",
    "                    frames_per_buffer=CHUNK)\n",
    "\n",
    "    for _ in range(n_times):\n",
    "        # Lấy một khung dữ liệu\n",
    "        data = stream.read(CHUNK)\n",
    "        frames.append(data)\n",
    "\n",
    "    # Lưu file âm thanh vào file wav\n",
    "    filename = os.path.join(output_folder, f\"AIS_29_3_{file_number}.wav\")\n",
    "    with wave.open(filename, 'wb') as wf:\n",
    "        wf.setnchannels(CHANNELS)\n",
    "        wf.setsampwidth(p.get_sample_size(FORMAT))\n",
    "        wf.setframerate(RATE)\n",
    "        wf.writeframes(b''.join(frames))\n",
    "\n",
    "# Main loop to record 300 files\n",
    "for file_number in range(1, 2):\n",
    "    record_audio(file_number)\n",
    "\n",
    "print(\"Recording complete.\")"
   ]
  }
 ],
 "metadata": {
  "kernelspec": {
   "display_name": "Python 3 (ipykernel)",
   "language": "python",
   "name": "python3"
  },
  "language_info": {
   "codemirror_mode": {
    "name": "ipython",
    "version": 3
   },
   "file_extension": ".py",
   "mimetype": "text/x-python",
   "name": "python",
   "nbconvert_exporter": "python",
   "pygments_lexer": "ipython3",
   "version": "3.11.5"
  }
 },
 "nbformat": 4,
 "nbformat_minor": 5
}
