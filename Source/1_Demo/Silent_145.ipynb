{
 "cells": [
  {
   "cell_type": "code",
   "execution_count": 1,
   "id": "76f4f851-6357-453b-8c53-b22183b7b676",
   "metadata": {},
   "outputs": [
    {
     "name": "stdout",
     "output_type": "stream",
     "text": [
      "Recording audio for file 1...\n",
      "Recording audio for file 2...\n",
      "Recording audio for file 3...\n",
      "Recording audio for file 4...\n",
      "Recording audio for file 5...\n",
      "Recording audio for file 6...\n",
      "Recording audio for file 7...\n",
      "Recording audio for file 8...\n",
      "Recording audio for file 9...\n",
      "Recording audio for file 10...\n",
      "Recording audio for file 11...\n",
      "Recording audio for file 12...\n",
      "Recording audio for file 13...\n",
      "Recording audio for file 14...\n",
      "Recording audio for file 15...\n",
      "Recording audio for file 16...\n",
      "Recording audio for file 17...\n",
      "Recording audio for file 18...\n"
     ]
    },
    {
     "ename": "KeyboardInterrupt",
     "evalue": "",
     "output_type": "error",
     "traceback": [
      "\u001b[1;31m---------------------------------------------------------------------------\u001b[0m",
      "\u001b[1;31mKeyboardInterrupt\u001b[0m                         Traceback (most recent call last)",
      "Cell \u001b[1;32mIn[1], line 49\u001b[0m\n\u001b[0;32m     47\u001b[0m \u001b[38;5;66;03m# Main loop to record 300 files\u001b[39;00m\n\u001b[0;32m     48\u001b[0m \u001b[38;5;28;01mfor\u001b[39;00m file_number \u001b[38;5;129;01min\u001b[39;00m \u001b[38;5;28mrange\u001b[39m(\u001b[38;5;241m1\u001b[39m, \u001b[38;5;241m3000\u001b[39m):\n\u001b[1;32m---> 49\u001b[0m     \u001b[43mrecord_audio\u001b[49m\u001b[43m(\u001b[49m\u001b[43mfile_number\u001b[49m\u001b[43m)\u001b[49m\n\u001b[0;32m     51\u001b[0m \u001b[38;5;28mprint\u001b[39m(\u001b[38;5;124m\"\u001b[39m\u001b[38;5;124mRecording complete.\u001b[39m\u001b[38;5;124m\"\u001b[39m)\n",
      "Cell \u001b[1;32mIn[1], line 36\u001b[0m, in \u001b[0;36mrecord_audio\u001b[1;34m(file_number)\u001b[0m\n\u001b[0;32m     28\u001b[0m stream \u001b[38;5;241m=\u001b[39m p\u001b[38;5;241m.\u001b[39mopen(\u001b[38;5;28mformat\u001b[39m\u001b[38;5;241m=\u001b[39mFORMAT,\n\u001b[0;32m     29\u001b[0m                 channels\u001b[38;5;241m=\u001b[39mCHANNELS,\n\u001b[0;32m     30\u001b[0m                 rate\u001b[38;5;241m=\u001b[39mRATE,\n\u001b[0;32m     31\u001b[0m                 \u001b[38;5;28minput\u001b[39m\u001b[38;5;241m=\u001b[39m\u001b[38;5;28;01mTrue\u001b[39;00m,\n\u001b[0;32m     32\u001b[0m                 frames_per_buffer\u001b[38;5;241m=\u001b[39mCHUNK)\n\u001b[0;32m     34\u001b[0m \u001b[38;5;28;01mfor\u001b[39;00m _ \u001b[38;5;129;01min\u001b[39;00m \u001b[38;5;28mrange\u001b[39m(n_times):\n\u001b[0;32m     35\u001b[0m     \u001b[38;5;66;03m# Lấy một khung dữ liệu\u001b[39;00m\n\u001b[1;32m---> 36\u001b[0m     data \u001b[38;5;241m=\u001b[39m \u001b[43mstream\u001b[49m\u001b[38;5;241;43m.\u001b[39;49m\u001b[43mread\u001b[49m\u001b[43m(\u001b[49m\u001b[43mCHUNK\u001b[49m\u001b[43m)\u001b[49m\n\u001b[0;32m     37\u001b[0m     frames\u001b[38;5;241m.\u001b[39mappend(data)\n\u001b[0;32m     39\u001b[0m \u001b[38;5;66;03m# Lưu file âm thanh vào file wav\u001b[39;00m\n",
      "File \u001b[1;32mD:\\Anna\\envs\\[bao]\\lib\\site-packages\\pyaudio.py:608\u001b[0m, in \u001b[0;36mStream.read\u001b[1;34m(self, num_frames, exception_on_overflow)\u001b[0m\n\u001b[0;32m    604\u001b[0m \u001b[38;5;28;01mif\u001b[39;00m \u001b[38;5;129;01mnot\u001b[39;00m \u001b[38;5;28mself\u001b[39m\u001b[38;5;241m.\u001b[39m_is_input:\n\u001b[0;32m    605\u001b[0m     \u001b[38;5;28;01mraise\u001b[39;00m \u001b[38;5;167;01mIOError\u001b[39;00m(\u001b[38;5;124m\"\u001b[39m\u001b[38;5;124mNot input stream\u001b[39m\u001b[38;5;124m\"\u001b[39m,\n\u001b[0;32m    606\u001b[0m                   paCanNotReadFromAnOutputOnlyStream)\n\u001b[1;32m--> 608\u001b[0m \u001b[38;5;28;01mreturn\u001b[39;00m \u001b[43mpa\u001b[49m\u001b[38;5;241;43m.\u001b[39;49m\u001b[43mread_stream\u001b[49m\u001b[43m(\u001b[49m\u001b[38;5;28;43mself\u001b[39;49m\u001b[38;5;241;43m.\u001b[39;49m\u001b[43m_stream\u001b[49m\u001b[43m,\u001b[49m\u001b[43m \u001b[49m\u001b[43mnum_frames\u001b[49m\u001b[43m,\u001b[49m\u001b[43m \u001b[49m\u001b[43mexception_on_overflow\u001b[49m\u001b[43m)\u001b[49m\n",
      "\u001b[1;31mKeyboardInterrupt\u001b[0m: "
     ]
    }
   ],
   "source": [
    "import pyaudio\n",
    "import os\n",
    "import wave\n",
    "import random\n",
    "\n",
    "# Constants\n",
    "FORMAT = pyaudio.paInt16\n",
    "CHANNELS = 1\n",
    "RATE = 16000\n",
    "CHUNK = 1024\n",
    "n_times = int(RATE*1.5/CHUNK)\n",
    "# n_times = int(RATE / CHUNK * 60)  # Number of iterations to record 1 second\n",
    "\n",
    "\n",
    "# Create a folder named 'background_sound'\n",
    "output_folder = 'AIS_29_01_3'\n",
    "os.makedirs(output_folder, exist_ok=True)\n",
    "\n",
    "# Hàm của luồng 1\n",
    "def record_audio(file_number):\n",
    "    print(f\"Recording audio for file {file_number}...\")\n",
    "    frames = []\n",
    "\n",
    "   \n",
    "    \n",
    "    # Khởi tạo Audio\n",
    "    p = pyaudio.PyAudio()\n",
    "    stream = p.open(format=FORMAT,\n",
    "                    channels=CHANNELS,\n",
    "                    rate=RATE,\n",
    "                    input=True,\n",
    "                    frames_per_buffer=CHUNK)\n",
    "\n",
    "    for _ in range(n_times):\n",
    "        # Lấy một khung dữ liệu\n",
    "        data = stream.read(CHUNK)\n",
    "        frames.append(data)\n",
    "\n",
    "    # Lưu file âm thanh vào file wav\n",
    "    filename = os.path.join(output_folder, f\"AIS_29_3_{file_number}.wav\")\n",
    "    with wave.open(filename, 'wb') as wf:\n",
    "        wf.setnchannels(CHANNELS)\n",
    "        wf.setsampwidth(p.get_sample_size(FORMAT))\n",
    "        wf.setframerate(RATE)\n",
    "        wf.writeframes(b''.join(frames))\n",
    "\n",
    "# Main loop to record 300 files\n",
    "for file_number in range(1, 3000):\n",
    "    record_audio(file_number)\n",
    "\n",
    "print(\"Recording complete.\")"
   ]
  }
 ],
 "metadata": {
  "kernelspec": {
   "display_name": "Python 3 (ipykernel)",
   "language": "python",
   "name": "python3"
  },
  "language_info": {
   "codemirror_mode": {
    "name": "ipython",
    "version": 3
   },
   "file_extension": ".py",
   "mimetype": "text/x-python",
   "name": "python",
   "nbconvert_exporter": "python",
   "pygments_lexer": "ipython3",
   "version": "3.10.13"
  }
 },
 "nbformat": 4,
 "nbformat_minor": 5
}
